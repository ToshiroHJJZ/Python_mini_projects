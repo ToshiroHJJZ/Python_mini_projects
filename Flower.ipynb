{
 "cells": [
  {
   "cell_type": "code",
   "execution_count": 5,
   "id": "28023690-1396-486b-89e5-7a6e2980f89c",
   "metadata": {},
   "outputs": [],
   "source": [
    "from turtle import *\n",
    "import colorsys\n",
    "\n",
    "tracer(100)\n",
    "bgcolor('black')\n",
    "pensize(20)\n",
    "h=0.6\n",
    "up()\n",
    "goto(-150,0)\n",
    "down()\n",
    "\n",
    "for i in range(580):\n",
    "    c=colorsys.hsv_to_rgb(h,1,1)\n",
    "    h+=0.001\n",
    "    color(c)\n",
    "    up(), circle(i,20)\n",
    "    down(), circle(65,145)\n",
    "    lt(141)\n",
    "\n",
    "done()"
   ]
  }
 ],
 "metadata": {
  "kernelspec": {
   "display_name": "Python 3 (ipykernel)",
   "language": "python",
   "name": "python3"
  },
  "language_info": {
   "codemirror_mode": {
    "name": "ipython",
    "version": 3
   },
   "file_extension": ".py",
   "mimetype": "text/x-python",
   "name": "python",
   "nbconvert_exporter": "python",
   "pygments_lexer": "ipython3",
   "version": "3.11.5"
  }
 },
 "nbformat": 4,
 "nbformat_minor": 5
}
