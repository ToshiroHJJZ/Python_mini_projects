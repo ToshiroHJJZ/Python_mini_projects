{
 "cells": [
  {
   "cell_type": "code",
   "execution_count": null,
   "id": "88b710fc-95fc-4629-a11f-205fa7de1bfd",
   "metadata": {},
   "outputs": [],
   "source": [
    "MP3 to MP4"
   ]
  },
  {
   "cell_type": "code",
   "execution_count": null,
   "id": "81e4930d-5038-4beb-8e7f-e8e7ba48df2b",
   "metadata": {},
   "outputs": [],
   "source": [
    "from moviepy.editor import *\n",
    "\n",
    "def convert_mp4_to_mp3(mp4_file, mp3_file):\n",
    "    # Load the mp4 file\n",
    "    video = VideoFileClip(mp4_file)\n",
    "    \n",
    "    # Extract audio from the video\n",
    "    audio = video.audio\n",
    "    \n",
    "    # Save the audio as mp3\n",
    "    audio.write_audiofile(mp3_file)\n",
    "    \n",
    "    # Close the video and audio files\n",
    "    video.close()\n",
    "    audio.close()\n",
    "\n",
    "def main():\n",
    "    # Paths to the input and output files\n",
    "    mp4_file = \"input_video.mp4\"\n",
    "    mp3_file = \"output_audio.mp3\"\n",
    "    \n",
    "    # Convert the mp4 file to mp3\n",
    "    convert_mp4_to_mp3(mp4_file, mp3_file)\n",
    "    \n",
    "    print(\"Conversion complete. MP3 file saved as:\", mp3_file)\n",
    "\n",
    "if __name__ == \"__main__\":\n",
    "    main()\n"
   ]
  }
 ],
 "metadata": {
  "kernelspec": {
   "display_name": "Python 3 (ipykernel)",
   "language": "python",
   "name": "python3"
  },
  "language_info": {
   "codemirror_mode": {
    "name": "ipython",
    "version": 3
   },
   "file_extension": ".py",
   "mimetype": "text/x-python",
   "name": "python",
   "nbconvert_exporter": "python",
   "pygments_lexer": "ipython3",
   "version": "3.11.5"
  }
 },
 "nbformat": 4,
 "nbformat_minor": 5
}
