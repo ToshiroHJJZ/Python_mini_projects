{
 "cells": [
  {
   "cell_type": "code",
   "execution_count": 2,
   "id": "25979d8d",
   "metadata": {},
   "outputs": [
    {
     "name": "stdout",
     "output_type": "stream",
     "text": [
      "Successfully created the PDF file in the same directory as the image\n"
     ]
    }
   ],
   "source": [
    "import os\n",
    "import img2pdf\n",
    "\n",
    "# Image file path\n",
    "image_path = \"C:\\\\Users\\\\jonat\\\\Desktop\\\\p5.jpg\"\n",
    "\n",
    "# Convert image to PDF\n",
    "pdf_data = img2pdf.convert(image_path)\n",
    "\n",
    "# Get the directory of the image file\n",
    "image_directory = os.path.dirname(image_path)\n",
    "\n",
    "# Open a new file named \"Assignment_1.pdf\" in binary write mode (\"wb\") in the same directory\n",
    "with open(os.path.join(image_directory, \"P5.pdf\"), \"wb\") as pdf_file:\n",
    "    # Write the PDF content to the \"Assignment_1.pdf\" file\n",
    "    pdf_file.write(pdf_data)\n",
    "\n",
    "# Output\n",
    "print(\"Successfully created the PDF file in the same directory as the image\")"
   ]
  },
  {
   "cell_type": "markdown",
   "id": "86d961cb",
   "metadata": {},
   "source": [
    "# Explanation"
   ]
  },
  {
   "cell_type": "markdown",
   "id": "0f596fd6",
   "metadata": {},
   "source": [
    "#### The provided code performs the following tasks:\n",
    "### Image to PDF Conversion: It uses the img2pdf library to convert an image file to a PDF file.\n",
    "#### File Handling: It handles the file operations to ensure that the PDF file is created and saved in the same directory as the original image.\n",
    "Now, let's break down the code step by step:"
   ]
  },
  {
   "cell_type": "code",
   "execution_count": null,
   "id": "747ffd1d",
   "metadata": {},
   "outputs": [],
   "source": [
    "import os\n",
    "import img2pdf\n",
    "\n",
    "# Image file path\n",
    "image_path = \"C:\\\\Users\\\\jonat\\\\Desktop\\\\Music_Theory\\\\Assignments_Workbook\\\\Assignment_1\\\\p1.jpg\""
   ]
  },
  {
   "cell_type": "markdown",
   "id": "a3202c00",
   "metadata": {},
   "source": [
    "In this part, the os and img2pdf modules are imported. The image_path variable is assigned the full path of the input image file \"p1.jpg\"."
   ]
  },
  {
   "cell_type": "code",
   "execution_count": null,
   "id": "d22c01ed",
   "metadata": {},
   "outputs": [],
   "source": [
    "# Convert image to PDF\n",
    "pdf_data = img2pdf.convert(image_path)"
   ]
  },
  {
   "cell_type": "markdown",
   "id": "95bfe550",
   "metadata": {},
   "source": [
    "The img2pdf.convert() function is used to convert the image file to PDF, and the resulting PDF content is stored in the pdf_data variable."
   ]
  },
  {
   "cell_type": "code",
   "execution_count": null,
   "id": "e37c66fd",
   "metadata": {},
   "outputs": [],
   "source": [
    "# Get the directory of the image file\n",
    "image_directory = os.path.dirname(image_path)"
   ]
  },
  {
   "cell_type": "markdown",
   "id": "173121c4",
   "metadata": {},
   "source": [
    "The os.path.dirname() function is used to extract the directory from the image file path, and the result is stored in the image_directory variable."
   ]
  },
  {
   "cell_type": "code",
   "execution_count": null,
   "id": "1bdf09e2",
   "metadata": {},
   "outputs": [],
   "source": [
    "# Open a new file named \"Assignment_1.pdf\" in binary write mode (\"wb\") in the same directory\n",
    "with open(os.path.join(image_directory, \"Assignment_1.pdf\"), \"wb\") as pdf_file:\n",
    "    # Write the PDF content to the \"Assignment_1.pdf\" file\n",
    "    pdf_file.write(pdf_data)"
   ]
  },
  {
   "cell_type": "markdown",
   "id": "f02f1f4c",
   "metadata": {},
   "source": [
    "Here, a new file named \"Assignment_1.pdf\" is opened in binary write mode in the same directory as the image. The PDF content is then written to the \"Assignment_1.pdf\" file."
   ]
  },
  {
   "cell_type": "code",
   "execution_count": null,
   "id": "e716cf58",
   "metadata": {},
   "outputs": [],
   "source": [
    "# Output\n",
    "print(\"Successfully created the PDF file in the same directory as the image\")"
   ]
  },
  {
   "cell_type": "markdown",
   "id": "3cf4c864",
   "metadata": {},
   "source": [
    "Finally, a message is printed to indicate that the PDF file has been successfully created in the same directory as the original image."
   ]
  },
  {
   "cell_type": "markdown",
   "id": "909bdd1e",
   "metadata": {},
   "source": [
    "This code effectively converts the specified image file to a PDF and saves it in the same directory as the original image.\n",
    "The img2pdf library provides a convenient way to perform this conversion, and the os module is used for path manipulation and file handling"
   ]
  }
 ],
 "metadata": {
  "kernelspec": {
   "display_name": "Python 3 (ipykernel)",
   "language": "python",
   "name": "python3"
  },
  "language_info": {
   "codemirror_mode": {
    "name": "ipython",
    "version": 3
   },
   "file_extension": ".py",
   "mimetype": "text/x-python",
   "name": "python",
   "nbconvert_exporter": "python",
   "pygments_lexer": "ipython3",
   "version": "3.11.5"
  }
 },
 "nbformat": 4,
 "nbformat_minor": 5
}
