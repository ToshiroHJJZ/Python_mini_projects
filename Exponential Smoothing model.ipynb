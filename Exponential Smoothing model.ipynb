{
 "cells": [
  {
   "cell_type": "code",
   "execution_count": 4,
   "id": "7a7c31b7-9f31-43f3-a887-31d8c2efb71d",
   "metadata": {},
   "outputs": [
    {
     "data": {
      "text/plain": [
       "2467.96160471635"
      ]
     },
     "execution_count": 4,
     "metadata": {},
     "output_type": "execute_result"
    }
   ],
   "source": [
    "sales = [1708, 2544, 2392, 3297, 3011, 2134, 2247, 1440, 2725, 2674, 2464, 2841, 2347, 2092, 2179, 2044, 1706, 2171, 3201, 2034, 3007, 1605, 2731, 2087, 2723, 2267, 1494, 2195, 1583, 2287, 2003, 1731, 2367, 2364, 1696, 2711, 1705, 2599, 2347, 3337, 2937, 2121, 2344, 1430, 2722, 2628, 2365, 2795]\n",
    "alpha = 0.2\n",
    "forecast = [sales[0]]\n",
    "\n",
    "for t in range(1, len(sales)):\n",
    "    forecast.append(alpha * sales[t] + (1 - alpha) * forecast[t-1])\n",
    "\n",
    "forecast_49 = forecast[-1]\n",
    "forecast_49"
   ]
  }
 ],
 "metadata": {
  "kernelspec": {
   "display_name": "Python 3 (ipykernel)",
   "language": "python",
   "name": "python3"
  },
  "language_info": {
   "codemirror_mode": {
    "name": "ipython",
    "version": 3
   },
   "file_extension": ".py",
   "mimetype": "text/x-python",
   "name": "python",
   "nbconvert_exporter": "python",
   "pygments_lexer": "ipython3",
   "version": "3.11.5"
  }
 },
 "nbformat": 4,
 "nbformat_minor": 5
}
