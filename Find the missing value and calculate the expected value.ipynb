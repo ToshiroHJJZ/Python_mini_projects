{
 "cells": [
  {
   "cell_type": "code",
   "execution_count": 1,
   "id": "cf4e182c-af7e-4a79-bab2-7cdd7b4bbc38",
   "metadata": {},
   "outputs": [
    {
     "name": "stdout",
     "output_type": "stream",
     "text": [
      "Missing Probability (P(x=5)): 0.05839920050000014\n",
      "Expected Value (E[X]): 2.5000000002\n"
     ]
    }
   ],
   "source": [
    "# Given probabilities\n",
    "P = [0.0563135147, 0.1877117157, 0.2815675735, 0.2502822876, 0.1459980011, None, 0.0162220001, 0.0030899048, 0.0003862381, 0.0000286102, 0.0000009537]\n",
    "\n",
    "# Calculate missing probability\n",
    "P[5] = 1 - sum([p for p in P if p is not None])\n",
    "print(f\"Missing Probability (P(x=5)): {P[5]}\")\n",
    "\n",
    "# Calculate expected value\n",
    "X = list(range(11))  # Values of X\n",
    "E_X = sum([x*p for x, p in zip(X, P)])\n",
    "print(f\"Expected Value (E[X]): {E_X}\")\n"
   ]
  }
 ],
 "metadata": {
  "kernelspec": {
   "display_name": "Python 3 (ipykernel)",
   "language": "python",
   "name": "python3"
  },
  "language_info": {
   "codemirror_mode": {
    "name": "ipython",
    "version": 3
   },
   "file_extension": ".py",
   "mimetype": "text/x-python",
   "name": "python",
   "nbconvert_exporter": "python",
   "pygments_lexer": "ipython3",
   "version": "3.11.5"
  }
 },
 "nbformat": 4,
 "nbformat_minor": 5
}
