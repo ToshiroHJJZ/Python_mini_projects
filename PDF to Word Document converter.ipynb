{
 "cells": [
  {
   "cell_type": "markdown",
   "id": "70352bc7-ec31-40d0-a6b2-f4a00fbace6b",
   "metadata": {},
   "source": [
    "# PDF to Word Document converter"
   ]
  },
  {
   "cell_type": "markdown",
   "id": "45c34548-e9ae-49cf-b411-6a6ea2347091",
   "metadata": {},
   "source": [
    "In this mini project, I will attempt to make a program that converts PDF documents to Word files"
   ]
  },
  {
   "cell_type": "code",
   "execution_count": 25,
   "id": "a7d4edd4-a209-4dc9-a288-e62544845874",
   "metadata": {},
   "outputs": [
    {
     "name": "stdout",
     "output_type": "stream",
     "text": [
      "Requirement already satisfied: pip in c:\\users\\jonat\\anaconda3\\lib\\site-packages (24.0)\n",
      "Collecting pip\n",
      "  Using cached pip-25.0.1-py3-none-any.whl.metadata (3.7 kB)\n",
      "Using cached pip-25.0.1-py3-none-any.whl (1.8 MB)\n",
      "Installing collected packages: pip\n",
      "  Attempting uninstall: pip\n",
      "    Found existing installation: pip 24.0\n",
      "    Uninstalling pip-24.0:\n",
      "      Successfully uninstalled pip-24.0\n",
      "Successfully installed pip-25.0.1\n",
      "Note: you may need to restart the kernel to use updated packages.\n"
     ]
    }
   ],
   "source": [
    "# this is to upgrade the pip (if necessary)\n",
    "#%pip install --upgrade pip"
   ]
  },
  {
   "cell_type": "code",
   "execution_count": 1,
   "id": "c8ce3b09-827e-448b-b013-283557f0f58f",
   "metadata": {},
   "outputs": [
    {
     "name": "stdout",
     "output_type": "stream",
     "text": [
      "Requirement already satisfied: pypdf in c:\\users\\jonat\\anaconda3\\lib\\site-packages (5.3.0)\n"
     ]
    }
   ],
   "source": [
    "# Install the pypdf library to be able to change PDFs\n",
    "!pip install pypdf "
   ]
  },
  {
   "cell_type": "code",
   "execution_count": 3,
   "id": "3e4e324f-b626-4243-b8d6-e2a190e2efb6",
   "metadata": {},
   "outputs": [
    {
     "name": "stdout",
     "output_type": "stream",
     "text": [
      "Collecting pdfplumber\n",
      "  Downloading pdfplumber-0.11.5-py3-none-any.whl.metadata (42 kB)\n",
      "Collecting python-docx\n",
      "  Downloading python_docx-1.1.2-py3-none-any.whl.metadata (2.0 kB)\n",
      "Collecting pdfminer.six==20231228 (from pdfplumber)\n",
      "  Downloading pdfminer.six-20231228-py3-none-any.whl.metadata (4.2 kB)\n",
      "Requirement already satisfied: Pillow>=9.1 in c:\\users\\jonat\\anaconda3\\lib\\site-packages (from pdfplumber) (10.2.0)\n",
      "Collecting pypdfium2>=4.18.0 (from pdfplumber)\n",
      "  Downloading pypdfium2-4.30.1-py3-none-win_amd64.whl.metadata (48 kB)\n",
      "Requirement already satisfied: charset-normalizer>=2.0.0 in c:\\users\\jonat\\anaconda3\\lib\\site-packages (from pdfminer.six==20231228->pdfplumber) (2.0.4)\n",
      "Requirement already satisfied: cryptography>=36.0.0 in c:\\users\\jonat\\anaconda3\\lib\\site-packages (from pdfminer.six==20231228->pdfplumber) (41.0.7)\n",
      "Requirement already satisfied: lxml>=3.1.0 in c:\\users\\jonat\\anaconda3\\lib\\site-packages (from python-docx) (5.3.0)\n",
      "Requirement already satisfied: typing-extensions>=4.9.0 in c:\\users\\jonat\\anaconda3\\lib\\site-packages (from python-docx) (4.12.2)\n",
      "Requirement already satisfied: cffi>=1.12 in c:\\users\\jonat\\anaconda3\\lib\\site-packages (from cryptography>=36.0.0->pdfminer.six==20231228->pdfplumber) (1.16.0)\n",
      "Requirement already satisfied: pycparser in c:\\users\\jonat\\anaconda3\\lib\\site-packages (from cffi>=1.12->cryptography>=36.0.0->pdfminer.six==20231228->pdfplumber) (2.21)\n",
      "Downloading pdfplumber-0.11.5-py3-none-any.whl (59 kB)\n",
      "Downloading pdfminer.six-20231228-py3-none-any.whl (5.6 MB)\n",
      "   ---------------------------------------- 0.0/5.6 MB ? eta -:--:--\n",
      "   ----- ---------------------------------- 0.8/5.6 MB 4.8 MB/s eta 0:00:02\n",
      "   -------------- ------------------------- 2.1/5.6 MB 5.6 MB/s eta 0:00:01\n",
      "   ----------------------------- ---------- 4.2/5.6 MB 7.0 MB/s eta 0:00:01\n",
      "   ---------------------------------------- 5.6/5.6 MB 7.4 MB/s eta 0:00:00\n",
      "Downloading python_docx-1.1.2-py3-none-any.whl (244 kB)\n",
      "Downloading pypdfium2-4.30.1-py3-none-win_amd64.whl (3.0 MB)\n",
      "   ---------------------------------------- 0.0/3.0 MB ? eta -:--:--\n",
      "   ---------------------------- ----------- 2.1/3.0 MB 11.7 MB/s eta 0:00:01\n",
      "   ---------------------------------------- 3.0/3.0 MB 10.1 MB/s eta 0:00:00\n",
      "Installing collected packages: python-docx, pypdfium2, pdfminer.six, pdfplumber\n",
      "Successfully installed pdfminer.six-20231228 pdfplumber-0.11.5 pypdfium2-4.30.1 python-docx-1.1.2\n"
     ]
    }
   ],
   "source": [
    "# This library \n",
    "!pip install pdfplumber python-docx"
   ]
  },
  {
   "cell_type": "code",
   "execution_count": 17,
   "id": "d4ad7b68-d459-4ae2-8ad0-351b288da114",
   "metadata": {},
   "outputs": [],
   "source": [
    "# First import the necessary libaries:\n",
    "import os\n",
    "\n",
    "# Then get the path of the PDF file and where you want the Word document to be located at\n",
    "pdf_path = \"C:\\\\Users\\\\jonat\\\\Desktop\\\\Analysis Report, Discussion, and Reflection.pdf\"\n",
    "docx_path = \"C:\\\\Users\\\\jonat\\\\Desktop\\\\TMP_CHEM_Report.docx\""
   ]
  },
  {
   "cell_type": "code",
   "execution_count": 19,
   "id": "b047e6d4-c5d3-436f-96f7-ced03540739d",
   "metadata": {},
   "outputs": [],
   "source": [
    "# now use pdflumber to extract the text from the PDF file\n",
    "import pdfplumber\n",
    "\n",
    "def extract_text_from_pdf(pdf_path):\n",
    "    text = \"\"\n",
    "    with pdfplumber.open(pdf_path) as pdf:\n",
    "        for page in pdf.pages:\n",
    "            text += page.extract_text() + \"\\n\"\n",
    "    return text"
   ]
  },
  {
   "cell_type": "code",
   "execution_count": 21,
   "id": "ade68fd4-f35a-46dc-9976-6d661cc41157",
   "metadata": {},
   "outputs": [],
   "source": [
    "# Next Use python-docx to create a Word document and add the extracted text.\n",
    "from docx import Document\n",
    "\n",
    "def create_word_document(text, docx_path):\n",
    "    doc = Document()\n",
    "    doc.add_paragraph(text)\n",
    "    doc.save(docx_path)"
   ]
  },
  {
   "cell_type": "code",
   "execution_count": 23,
   "id": "3c204b4c-6d62-4f30-b71d-a74a336d599d",
   "metadata": {},
   "outputs": [],
   "source": [
    "# Combine the extraction and creation steps into a single function.\n",
    "def pdf_to_word(pdf_path, docx_path):\n",
    "    text = extract_text_from_pdf(pdf_path)\n",
    "    create_word_document(text, docx_path)\n",
    "\n",
    "# finally call the function\n",
    "pdf_to_word(pdf_path, docx_path)"
   ]
  }
 ],
 "metadata": {
  "kernelspec": {
   "display_name": "Python 3 (ipykernel)",
   "language": "python",
   "name": "python3"
  },
  "language_info": {
   "codemirror_mode": {
    "name": "ipython",
    "version": 3
   },
   "file_extension": ".py",
   "mimetype": "text/x-python",
   "name": "python",
   "nbconvert_exporter": "python",
   "pygments_lexer": "ipython3",
   "version": "3.11.5"
  }
 },
 "nbformat": 4,
 "nbformat_minor": 5
}
